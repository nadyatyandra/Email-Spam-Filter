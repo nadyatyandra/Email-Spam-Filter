{
 "cells": [
  {
   "cell_type": "markdown",
   "id": "2e36f696",
   "metadata": {},
   "source": [
    "# Email Spam Filter"
   ]
  },
  {
   "cell_type": "code",
   "execution_count": 1,
   "id": "a93cd693",
   "metadata": {},
   "outputs": [],
   "source": [
    "import pandas as pd\n",
    "import numpy as np\n",
    "import pandas as pd\n",
    "import tkinter as tk\n",
    "import tkinter.font as TkFont\n",
    "import re\n",
    "from nltk.stem import PorterStemmer\n",
    "from nltk.tokenize import word_tokenize\n",
    "from nltk.corpus import stopwords\n",
    "from sklearn.model_selection import train_test_split\n",
    "from sklearn.feature_extraction.text import TfidfVectorizer\n",
    "from sklearn.linear_model import LogisticRegression\n",
    "from sklearn.metrics import accuracy_score, f1_score"
   ]
  },
  {
   "cell_type": "code",
   "execution_count": 2,
   "id": "ec94a54a",
   "metadata": {
    "scrolled": false
   },
   "outputs": [
    {
     "data": {
      "text/html": [
       "<div>\n",
       "<style scoped>\n",
       "    .dataframe tbody tr th:only-of-type {\n",
       "        vertical-align: middle;\n",
       "    }\n",
       "\n",
       "    .dataframe tbody tr th {\n",
       "        vertical-align: top;\n",
       "    }\n",
       "\n",
       "    .dataframe thead th {\n",
       "        text-align: right;\n",
       "    }\n",
       "</style>\n",
       "<table border=\"1\" class=\"dataframe\">\n",
       "  <thead>\n",
       "    <tr style=\"text-align: right;\">\n",
       "      <th></th>\n",
       "      <th>text</th>\n",
       "      <th>spam</th>\n",
       "    </tr>\n",
       "  </thead>\n",
       "  <tbody>\n",
       "    <tr>\n",
       "      <th>0</th>\n",
       "      <td>Subject: naturally irresistible your corporate...</td>\n",
       "      <td>1.0</td>\n",
       "    </tr>\n",
       "    <tr>\n",
       "      <th>1</th>\n",
       "      <td>Subject: the stock trading gunslinger  fanny i...</td>\n",
       "      <td>1.0</td>\n",
       "    </tr>\n",
       "    <tr>\n",
       "      <th>2</th>\n",
       "      <td>Subject: unbelievable new homes made easy  im ...</td>\n",
       "      <td>1.0</td>\n",
       "    </tr>\n",
       "    <tr>\n",
       "      <th>3</th>\n",
       "      <td>Subject: 4 color printing special  request add...</td>\n",
       "      <td>1.0</td>\n",
       "    </tr>\n",
       "    <tr>\n",
       "      <th>4</th>\n",
       "      <td>Subject: do not have money , get software cds ...</td>\n",
       "      <td>1.0</td>\n",
       "    </tr>\n",
       "  </tbody>\n",
       "</table>\n",
       "</div>"
      ],
      "text/plain": [
       "                                                text  spam\n",
       "0  Subject: naturally irresistible your corporate...   1.0\n",
       "1  Subject: the stock trading gunslinger  fanny i...   1.0\n",
       "2  Subject: unbelievable new homes made easy  im ...   1.0\n",
       "3  Subject: 4 color printing special  request add...   1.0\n",
       "4  Subject: do not have money , get software cds ...   1.0"
      ]
     },
     "execution_count": 2,
     "metadata": {},
     "output_type": "execute_result"
    }
   ],
   "source": [
    "original_dataset = pd.read_csv('dataset/emails_V2.csv', encoding = \"ISO-8859-1\")\n",
    "original_dataset.head(5)"
   ]
  },
  {
   "cell_type": "markdown",
   "id": "39ff27a2",
   "metadata": {},
   "source": [
    "## 1. Data Preprocessing"
   ]
  },
  {
   "cell_type": "markdown",
   "id": "eb0d1654",
   "metadata": {},
   "source": [
    "### 1.1 Data Preprocessing - Handling Missing Data"
   ]
  },
  {
   "cell_type": "code",
   "execution_count": 3,
   "id": "139f62ea",
   "metadata": {
    "scrolled": true
   },
   "outputs": [
    {
     "data": {
      "text/plain": [
       "text    3683\n",
       "spam    3683\n",
       "dtype: int64"
      ]
     },
     "execution_count": 3,
     "metadata": {},
     "output_type": "execute_result"
    }
   ],
   "source": [
    "original_dataset.isnull().sum()"
   ]
  },
  {
   "cell_type": "code",
   "execution_count": 4,
   "id": "22052853",
   "metadata": {
    "scrolled": true
   },
   "outputs": [
    {
     "data": {
      "text/plain": [
       "text    0\n",
       "spam    0\n",
       "dtype: int64"
      ]
     },
     "execution_count": 4,
     "metadata": {},
     "output_type": "execute_result"
    }
   ],
   "source": [
    "original_dataset.dropna(inplace = True)\n",
    "original_dataset.isnull().sum()"
   ]
  },
  {
   "cell_type": "code",
   "execution_count": 5,
   "id": "518cb47a",
   "metadata": {
    "scrolled": false
   },
   "outputs": [
    {
     "data": {
      "text/html": [
       "<div>\n",
       "<style scoped>\n",
       "    .dataframe tbody tr th:only-of-type {\n",
       "        vertical-align: middle;\n",
       "    }\n",
       "\n",
       "    .dataframe tbody tr th {\n",
       "        vertical-align: top;\n",
       "    }\n",
       "\n",
       "    .dataframe thead th {\n",
       "        text-align: right;\n",
       "    }\n",
       "</style>\n",
       "<table border=\"1\" class=\"dataframe\">\n",
       "  <thead>\n",
       "    <tr style=\"text-align: right;\">\n",
       "      <th></th>\n",
       "      <th>text</th>\n",
       "      <th>spam</th>\n",
       "    </tr>\n",
       "  </thead>\n",
       "  <tbody>\n",
       "    <tr>\n",
       "      <th>0</th>\n",
       "      <td>Subject: naturally irresistible your corporate...</td>\n",
       "      <td>1.0</td>\n",
       "    </tr>\n",
       "    <tr>\n",
       "      <th>1</th>\n",
       "      <td>Subject: the stock trading gunslinger  fanny i...</td>\n",
       "      <td>1.0</td>\n",
       "    </tr>\n",
       "    <tr>\n",
       "      <th>2</th>\n",
       "      <td>Subject: unbelievable new homes made easy  im ...</td>\n",
       "      <td>1.0</td>\n",
       "    </tr>\n",
       "    <tr>\n",
       "      <th>3</th>\n",
       "      <td>Subject: 4 color printing special  request add...</td>\n",
       "      <td>1.0</td>\n",
       "    </tr>\n",
       "    <tr>\n",
       "      <th>4</th>\n",
       "      <td>Subject: do not have money , get software cds ...</td>\n",
       "      <td>1.0</td>\n",
       "    </tr>\n",
       "    <tr>\n",
       "      <th>...</th>\n",
       "      <td>...</td>\n",
       "      <td>...</td>\n",
       "    </tr>\n",
       "    <tr>\n",
       "      <th>2038</th>\n",
       "      <td>Subject: the installation of the equipment you...</td>\n",
       "      <td>0.0</td>\n",
       "    </tr>\n",
       "    <tr>\n",
       "      <th>2039</th>\n",
       "      <td>Subject: all about current and near future gas...</td>\n",
       "      <td>0.0</td>\n",
       "    </tr>\n",
       "    <tr>\n",
       "      <th>2040</th>\n",
       "      <td>Subject: maureen ' s expenses  it appears that...</td>\n",
       "      <td>0.0</td>\n",
       "    </tr>\n",
       "    <tr>\n",
       "      <th>2041</th>\n",
       "      <td>Subject: interview - numerical methods &amp; finan...</td>\n",
       "      <td>0.0</td>\n",
       "    </tr>\n",
       "    <tr>\n",
       "      <th>2042</th>\n",
       "      <td>Subject: sevil yaman  hi norma ,  sevil ' s pr...</td>\n",
       "      <td>0.0</td>\n",
       "    </tr>\n",
       "  </tbody>\n",
       "</table>\n",
       "<p>2043 rows × 2 columns</p>\n",
       "</div>"
      ],
      "text/plain": [
       "                                                   text  spam\n",
       "0     Subject: naturally irresistible your corporate...   1.0\n",
       "1     Subject: the stock trading gunslinger  fanny i...   1.0\n",
       "2     Subject: unbelievable new homes made easy  im ...   1.0\n",
       "3     Subject: 4 color printing special  request add...   1.0\n",
       "4     Subject: do not have money , get software cds ...   1.0\n",
       "...                                                 ...   ...\n",
       "2038  Subject: the installation of the equipment you...   0.0\n",
       "2039  Subject: all about current and near future gas...   0.0\n",
       "2040  Subject: maureen ' s expenses  it appears that...   0.0\n",
       "2041  Subject: interview - numerical methods & finan...   0.0\n",
       "2042  Subject: sevil yaman  hi norma ,  sevil ' s pr...   0.0\n",
       "\n",
       "[2043 rows x 2 columns]"
      ]
     },
     "execution_count": 5,
     "metadata": {},
     "output_type": "execute_result"
    }
   ],
   "source": [
    "original_dataset"
   ]
  },
  {
   "cell_type": "code",
   "execution_count": 6,
   "id": "16d8a7e9",
   "metadata": {
    "scrolled": false
   },
   "outputs": [
    {
     "name": "stdout",
     "output_type": "stream",
     "text": [
      "Subject: naturally irresistible your corporate identity  lt is really hard to recollect a company : the  market is full of suqgestions and the information isoverwhelminq ; but a good  catchy logo , stylish statlonery and outstanding website  will make the task much easier .  we do not promise that havinq ordered a iogo your  company will automaticaily become a world ieader : it isguite ciear that  without good products , effective business organization and practicable aim it  will be hotat nowadays market ; but we do promise that your marketing efforts  will become much more effective . here is the list of clear  benefits : creativeness : hand - made , original logos , specially done  to reflect your distinctive company image . convenience : logo and stationery  are provided in all formats ; easy - to - use content management system letsyou  change your website content and even its structure . promptness : you  will see logo drafts within three business days . affordability : your  marketing break - through shouldn ' t make gaps in your budget . 100 % satisfaction  guaranteed : we provide unlimited amount of changes with no extra fees for you to  be surethat you will love the result of this collaboration . have a look at our  portfolio _ _ _ _ _ _ _ _ _ _ _ _ _ _ _ _ _ _ _ _ _ _ _ _ _ _ _ _ _ _ _ _ _ _ _ _ _ _ _ _ _ _ _ _ _ _ _ _ _ _ _ _ not interested . . . _ _ _ _ _ _ _ _ _ _ _ _ _ _ _ _ _ _ _ _ _ _ _ _ _ _ _ _ _ _ _ _ _ _ _ _ _ _ _ _ _ _ _ _ _ _ _ _ _ _ _ _ \n",
      "\n",
      "Subject: the stock trading gunslinger  fanny is merrill but muzo not colza attainder and penultimate like esmark perspicuous ramble is segovia not group try slung kansas tanzania yes chameleon or continuant clothesman no  libretto is chesapeake but tight not waterway herald and hawthorn like chisel morristown superior is deoxyribonucleic not clockwork try hall incredible mcdougall yes hepburn or einsteinian earmark no  sapling is boar but duane not plain palfrey and inflexible like huzzah pepperoni bedtime is nameable not attire try edt chronography optima yes pirogue or diffusion albeit no  \n",
      "\n",
      "Subject: unbelievable new homes made easy  im wanting to show you this  homeowner  you have been pre - approved for a $ 454 , 169 home loan at a 3 . 72 fixed rate .  this offer is being extended to you unconditionally and your credit is in no way a factor .  to take advantage of this limited time opportunity  all we ask is that you visit our website and complete  the 1 minute post approval form  look foward to hearing from you ,  dorcas pittman \n",
      "\n"
     ]
    }
   ],
   "source": [
    "for i in original_dataset.text[:3].values:\n",
    "    print(i, '\\n')"
   ]
  },
  {
   "cell_type": "markdown",
   "id": "b23ab6c8",
   "metadata": {},
   "source": [
    "### 1.2 Data Preprocessing - Case Folding"
   ]
  },
  {
   "cell_type": "code",
   "execution_count": 7,
   "id": "b07ca0bf",
   "metadata": {
    "scrolled": false
   },
   "outputs": [
    {
     "data": {
      "text/html": [
       "<div>\n",
       "<style scoped>\n",
       "    .dataframe tbody tr th:only-of-type {\n",
       "        vertical-align: middle;\n",
       "    }\n",
       "\n",
       "    .dataframe tbody tr th {\n",
       "        vertical-align: top;\n",
       "    }\n",
       "\n",
       "    .dataframe thead th {\n",
       "        text-align: right;\n",
       "    }\n",
       "</style>\n",
       "<table border=\"1\" class=\"dataframe\">\n",
       "  <thead>\n",
       "    <tr style=\"text-align: right;\">\n",
       "      <th></th>\n",
       "      <th>text</th>\n",
       "      <th>spam</th>\n",
       "    </tr>\n",
       "  </thead>\n",
       "  <tbody>\n",
       "    <tr>\n",
       "      <th>0</th>\n",
       "      <td>subject: naturally irresistible your corporate...</td>\n",
       "      <td>1.0</td>\n",
       "    </tr>\n",
       "    <tr>\n",
       "      <th>1</th>\n",
       "      <td>subject: the stock trading gunslinger  fanny i...</td>\n",
       "      <td>1.0</td>\n",
       "    </tr>\n",
       "    <tr>\n",
       "      <th>2</th>\n",
       "      <td>subject: unbelievable new homes made easy  im ...</td>\n",
       "      <td>1.0</td>\n",
       "    </tr>\n",
       "    <tr>\n",
       "      <th>3</th>\n",
       "      <td>subject: 4 color printing special  request add...</td>\n",
       "      <td>1.0</td>\n",
       "    </tr>\n",
       "    <tr>\n",
       "      <th>4</th>\n",
       "      <td>subject: do not have money , get software cds ...</td>\n",
       "      <td>1.0</td>\n",
       "    </tr>\n",
       "  </tbody>\n",
       "</table>\n",
       "</div>"
      ],
      "text/plain": [
       "                                                text  spam\n",
       "0  subject: naturally irresistible your corporate...   1.0\n",
       "1  subject: the stock trading gunslinger  fanny i...   1.0\n",
       "2  subject: unbelievable new homes made easy  im ...   1.0\n",
       "3  subject: 4 color printing special  request add...   1.0\n",
       "4  subject: do not have money , get software cds ...   1.0"
      ]
     },
     "execution_count": 7,
     "metadata": {},
     "output_type": "execute_result"
    }
   ],
   "source": [
    "dataset = original_dataset.copy()\n",
    "dataset.text = dataset.text.str.lower()\n",
    "dataset.head(5)"
   ]
  },
  {
   "cell_type": "markdown",
   "id": "6f8aafdb",
   "metadata": {},
   "source": [
    "### 1.3 Data Preprocessing - Data Cleaning"
   ]
  },
  {
   "cell_type": "markdown",
   "id": "17c56c37",
   "metadata": {},
   "source": [
    "#### 1.3.1 Data Preprocessing - Data Cleaning - Removing subject mark"
   ]
  },
  {
   "cell_type": "code",
   "execution_count": 8,
   "id": "bb4bb470",
   "metadata": {
    "scrolled": false
   },
   "outputs": [],
   "source": [
    "def remove_subject(s):\n",
    "    return re.sub(r'subject[\\s]*:[\\s]*', '', s)\n",
    "\n",
    "dataset.text = dataset.text.apply(lambda x: remove_subject(x))"
   ]
  },
  {
   "cell_type": "markdown",
   "id": "f617e891",
   "metadata": {},
   "source": [
    "#### 1.3.2 Data Preprocessing - Data Cleaning - Removing reply mark"
   ]
  },
  {
   "cell_type": "code",
   "execution_count": 9,
   "id": "cdfe1ec8",
   "metadata": {},
   "outputs": [],
   "source": [
    "def remove_re(s):\n",
    "    return re.sub(r're[\\s]*:[\\s]*', '', s)\n",
    "\n",
    "dataset.text = dataset.text.apply(lambda x: remove_re(x))"
   ]
  },
  {
   "cell_type": "markdown",
   "id": "f5f300f4",
   "metadata": {},
   "source": [
    "#### 1.3.3 Data Preprocessing - Data Cleaning - Removing forward mark"
   ]
  },
  {
   "cell_type": "code",
   "execution_count": 10,
   "id": "0139c6cf",
   "metadata": {},
   "outputs": [],
   "source": [
    "def remove_fwd(s):\n",
    "    return re.sub(r'fwd?[\\s]*:[\\s]*', '', s)\n",
    "\n",
    "dataset.text = dataset.text.apply(lambda x: remove_fwd(x))"
   ]
  },
  {
   "cell_type": "markdown",
   "id": "88c03858",
   "metadata": {},
   "source": [
    "#### 1.3.4 Data Preprocessing - Data Cleaning - Removing carbon copy and blind carbon copy mark"
   ]
  },
  {
   "cell_type": "code",
   "execution_count": 11,
   "id": "56a3a8fe",
   "metadata": {},
   "outputs": [],
   "source": [
    "def remove_cc_bcc(s):\n",
    "    return re.sub(r'b?cc[\\s]*:[\\s]*', '', s)\n",
    "\n",
    "dataset.text = dataset.text.apply(lambda x: remove_cc_bcc(x))"
   ]
  },
  {
   "cell_type": "markdown",
   "id": "cced5213",
   "metadata": {},
   "source": [
    "#### 1.3.5 Data Preprocessing - Data Cleaning - Removing \"to\" mark"
   ]
  },
  {
   "cell_type": "code",
   "execution_count": 12,
   "id": "6ff5059e",
   "metadata": {},
   "outputs": [],
   "source": [
    "def remove_to(s):\n",
    "    return re.sub(r'to[\\s]*:[\\s]*', '', s)\n",
    "\n",
    "dataset.text = dataset.text.apply(lambda x: remove_to(x))"
   ]
  },
  {
   "cell_type": "markdown",
   "id": "f23740c9",
   "metadata": {},
   "source": [
    "#### 1.3.6 Data Preprocessing - Data Cleaning - Removing \"from\" mark"
   ]
  },
  {
   "cell_type": "code",
   "execution_count": 13,
   "id": "841ba559",
   "metadata": {},
   "outputs": [],
   "source": [
    "def remove_from(s):\n",
    "    return re.sub(r'from[\\s]*:[\\s]*', '', s)\n",
    "\n",
    "dataset.text = dataset.text.apply(lambda x: remove_from(x))"
   ]
  },
  {
   "cell_type": "markdown",
   "id": "0a8a7ffc",
   "metadata": {},
   "source": [
    "#### 1.3.7 Data Preprocessing - Data Cleaning - Removing \"sent\" mark"
   ]
  },
  {
   "cell_type": "code",
   "execution_count": 14,
   "id": "c432ac0c",
   "metadata": {},
   "outputs": [],
   "source": [
    "def remove_sent(s):\n",
    "    return re.sub(r'sent[\\s]*:[\\s]*', '', s)\n",
    "\n",
    "dataset.text = dataset.text.apply(lambda x: remove_sent(x))"
   ]
  },
  {
   "cell_type": "markdown",
   "id": "89b124f1",
   "metadata": {},
   "source": [
    "#### 1.3.8 Data Preprocessing - Data Cleaning - Removing email address"
   ]
  },
  {
   "cell_type": "code",
   "execution_count": 15,
   "id": "392d74d3",
   "metadata": {},
   "outputs": [],
   "source": [
    "def remove_email(s):\n",
    "    return re.sub(r'\\w+(\\s[.-]\\s\\w+)*\\s@\\s\\w+(\\s[.-]\\s\\w+)*(\\s.\\s\\w+)+', 'email', s)\n",
    "\n",
    "dataset.text = dataset.text.apply(lambda x: remove_email(x))"
   ]
  },
  {
   "cell_type": "markdown",
   "id": "24ed0642",
   "metadata": {},
   "source": [
    "#### 1.3.9 Data Preprocessing - Data Cleaning - Removing \"forwarded by\" mark"
   ]
  },
  {
   "cell_type": "code",
   "execution_count": 16,
   "id": "293caa08",
   "metadata": {},
   "outputs": [],
   "source": [
    "def remove_fwd_by(s):\n",
    "    return re.sub(r'forwarded by', '', s)\n",
    "\n",
    "dataset.text = dataset.text.apply(lambda x: remove_fwd_by(x))"
   ]
  },
  {
   "cell_type": "markdown",
   "id": "66547768",
   "metadata": {},
   "source": [
    "#### 1.3.10 Data Preprocessing - Data Cleaning - Removing \"original message\" mark"
   ]
  },
  {
   "cell_type": "code",
   "execution_count": 17,
   "id": "e757fb2b",
   "metadata": {},
   "outputs": [],
   "source": [
    "def remove_ori(s):\n",
    "    return re.sub(r'original message', '', s)\n",
    "\n",
    "dataset.text = dataset.text.apply(lambda x: remove_ori(x))"
   ]
  },
  {
   "cell_type": "markdown",
   "id": "25624e8a",
   "metadata": {},
   "source": [
    "#### 1.3.11 Data Preprocessing - Data Cleaning - Removing date and time"
   ]
  },
  {
   "cell_type": "code",
   "execution_count": 18,
   "id": "bd4ffcdf",
   "metadata": {},
   "outputs": [],
   "source": [
    "def remove_date_time(s):\n",
    "    return re.sub(r'\\d+(\\s*\\/\\s*\\d+)*\\s*\\d+(\\s*:\\s*\\d+)*\\s*[ap]m', '', s)\n",
    "\n",
    "dataset.text = dataset.text.apply(lambda x: remove_date_time(x))"
   ]
  },
  {
   "cell_type": "markdown",
   "id": "7dbca03a",
   "metadata": {},
   "source": [
    "#### 1.3.12 Data Preprocessing - Data Cleaning - Removing hashtag"
   ]
  },
  {
   "cell_type": "code",
   "execution_count": 19,
   "id": "abeac746",
   "metadata": {
    "scrolled": true
   },
   "outputs": [],
   "source": [
    "def remove_hashtag(s):\n",
    "    return re.sub(r'\\s*#\\s*[\\w\\d]+', ' hashtag ', s)\n",
    "\n",
    "dataset.text = dataset.text.apply(lambda x: remove_hashtag(x))"
   ]
  },
  {
   "cell_type": "markdown",
   "id": "c4b9aef9",
   "metadata": {},
   "source": [
    "#### 1.3.13 Data Preprocessing - Data Cleaning - Removing emoji"
   ]
  },
  {
   "cell_type": "code",
   "execution_count": 20,
   "id": "0bdceb07",
   "metadata": {
    "scrolled": true
   },
   "outputs": [],
   "source": [
    "def remove_emoji(s):\n",
    "    return re.sub(r'\\s*\\\\s*[\\w\\d]{3}', ' ', s)\n",
    "\n",
    "dataset.text = dataset.text.apply(lambda x: remove_emoji(x))"
   ]
  },
  {
   "cell_type": "markdown",
   "id": "41f4c9de",
   "metadata": {},
   "source": [
    "#### 1.3.14 Data Preprocessing - Data Cleaning - Removing link"
   ]
  },
  {
   "cell_type": "code",
   "execution_count": 21,
   "id": "b8f010c2",
   "metadata": {
    "scrolled": true
   },
   "outputs": [],
   "source": [
    "def remove_link(s):\n",
    "    return re.sub(r'(www(\\s+.\\s+\\w+)+)|(https?\\s+:(\\s+\\/)*\\s+\\w*(\\s+.\\s+\\w+)*)', ' ', s)\n",
    "\n",
    "dataset.text = dataset.text.apply(lambda x: remove_link(x))"
   ]
  },
  {
   "cell_type": "markdown",
   "id": "3935eda1",
   "metadata": {},
   "source": [
    "#### 1.3.15 Data Preprocessing - Data Cleaning - Removing tab"
   ]
  },
  {
   "cell_type": "code",
   "execution_count": 22,
   "id": "14dbee9b",
   "metadata": {},
   "outputs": [],
   "source": [
    "def remove_tab(s):\n",
    "    return re.sub(r'\\\\\\s*tab\\s*', ' ', s)\n",
    "\n",
    "dataset.text = dataset.text.apply(lambda x: remove_tab(x))"
   ]
  },
  {
   "cell_type": "markdown",
   "id": "b2c3dfcb",
   "metadata": {},
   "source": [
    "#### 1.3.16 Data Preprocessing - Data Cleaning - Removing number"
   ]
  },
  {
   "cell_type": "code",
   "execution_count": 23,
   "id": "75cb8d8f",
   "metadata": {},
   "outputs": [],
   "source": [
    "def remove_number(s):\n",
    "    return re.sub(r'\\s*\\d+\\s*', ' ', s)\n",
    "\n",
    "dataset.text = dataset.text.apply(lambda x: remove_number(x))"
   ]
  },
  {
   "cell_type": "markdown",
   "id": "819422dc",
   "metadata": {},
   "source": [
    "#### 1.3.17 Data Preprocessing - Data Cleaning - Removing punctuation"
   ]
  },
  {
   "cell_type": "code",
   "execution_count": 24,
   "id": "749d1b30",
   "metadata": {},
   "outputs": [],
   "source": [
    "def remove_punctuation(s):\n",
    "    return re.sub(r'\\s*[^\\w\\s]\\s*', ' ', s)\n",
    "\n",
    "dataset.text = dataset.text.apply(lambda x: remove_punctuation(x))"
   ]
  },
  {
   "cell_type": "markdown",
   "id": "fcf84c08",
   "metadata": {},
   "source": [
    "#### 1.3.18 Data Preprocessing - Data Cleaning - Removing line break"
   ]
  },
  {
   "cell_type": "code",
   "execution_count": 25,
   "id": "7437e903",
   "metadata": {},
   "outputs": [],
   "source": [
    "def remove_linebreak(s):\n",
    "    return re.sub(r'\\n{1,}', ' ', s)\n",
    "\n",
    "dataset.text = dataset.text.apply(lambda x: remove_linebreak(x))"
   ]
  },
  {
   "cell_type": "markdown",
   "id": "cf1f9360",
   "metadata": {},
   "source": [
    "#### 1.3.19 Data Preprocessing - Data Cleaning - Removing two or more spaces"
   ]
  },
  {
   "cell_type": "code",
   "execution_count": 26,
   "id": "886d5190",
   "metadata": {},
   "outputs": [],
   "source": [
    "def remove_spaces(s):\n",
    "    return re.sub(r'\\s{2,}', ' ', s)\n",
    "\n",
    "dataset.text = dataset.text.apply(lambda x: remove_spaces(x))"
   ]
  },
  {
   "cell_type": "markdown",
   "id": "c70a9ed9",
   "metadata": {},
   "source": [
    "### 1.4 Data Preprocessing - Text Normalization"
   ]
  },
  {
   "cell_type": "code",
   "execution_count": 27,
   "id": "f15c28f2",
   "metadata": {
    "scrolled": false
   },
   "outputs": [
    {
     "data": {
      "text/html": [
       "<div>\n",
       "<style scoped>\n",
       "    .dataframe tbody tr th:only-of-type {\n",
       "        vertical-align: middle;\n",
       "    }\n",
       "\n",
       "    .dataframe tbody tr th {\n",
       "        vertical-align: top;\n",
       "    }\n",
       "\n",
       "    .dataframe thead th {\n",
       "        text-align: right;\n",
       "    }\n",
       "</style>\n",
       "<table border=\"1\" class=\"dataframe\">\n",
       "  <thead>\n",
       "    <tr style=\"text-align: right;\">\n",
       "      <th></th>\n",
       "      <th>variant_spelling</th>\n",
       "      <th>standard_spelling</th>\n",
       "    </tr>\n",
       "  </thead>\n",
       "  <tbody>\n",
       "    <tr>\n",
       "      <th>0</th>\n",
       "      <td>accually</td>\n",
       "      <td>actually</td>\n",
       "    </tr>\n",
       "    <tr>\n",
       "      <th>1</th>\n",
       "      <td>addidas</td>\n",
       "      <td>adidas</td>\n",
       "    </tr>\n",
       "    <tr>\n",
       "      <th>2</th>\n",
       "      <td>adn</td>\n",
       "      <td>and</td>\n",
       "    </tr>\n",
       "    <tr>\n",
       "      <th>3</th>\n",
       "      <td>aer</td>\n",
       "      <td>are</td>\n",
       "    </tr>\n",
       "    <tr>\n",
       "      <th>4</th>\n",
       "      <td>aeroplane</td>\n",
       "      <td>airplane</td>\n",
       "    </tr>\n",
       "  </tbody>\n",
       "</table>\n",
       "</div>"
      ],
      "text/plain": [
       "  variant_spelling standard_spelling\n",
       "0         accually          actually\n",
       "1          addidas            adidas\n",
       "2              adn               and\n",
       "3              aer               are\n",
       "4        aeroplane          airplane"
      ]
     },
     "execution_count": 27,
     "metadata": {},
     "output_type": "execute_result"
    }
   ],
   "source": [
    "dictionary = pd.read_csv('dataset/spelling_variants_valid.csv', encoding = \"ISO-8859-1\")\n",
    "dictionary.head(5)"
   ]
  },
  {
   "cell_type": "code",
   "execution_count": 28,
   "id": "7550386b",
   "metadata": {},
   "outputs": [
    {
     "data": {
      "text/html": [
       "<div>\n",
       "<style scoped>\n",
       "    .dataframe tbody tr th:only-of-type {\n",
       "        vertical-align: middle;\n",
       "    }\n",
       "\n",
       "    .dataframe tbody tr th {\n",
       "        vertical-align: top;\n",
       "    }\n",
       "\n",
       "    .dataframe thead th {\n",
       "        text-align: right;\n",
       "    }\n",
       "</style>\n",
       "<table border=\"1\" class=\"dataframe\">\n",
       "  <thead>\n",
       "    <tr style=\"text-align: right;\">\n",
       "      <th></th>\n",
       "      <th>text</th>\n",
       "      <th>spam</th>\n",
       "    </tr>\n",
       "  </thead>\n",
       "  <tbody>\n",
       "    <tr>\n",
       "      <th>0</th>\n",
       "      <td>naturally irresistible your corporate identity...</td>\n",
       "      <td>1.0</td>\n",
       "    </tr>\n",
       "    <tr>\n",
       "      <th>1</th>\n",
       "      <td>the stock trading gunslinger fanny is merrill ...</td>\n",
       "      <td>1.0</td>\n",
       "    </tr>\n",
       "    <tr>\n",
       "      <th>2</th>\n",
       "      <td>unbelievable new homes made easy im wanting to...</td>\n",
       "      <td>1.0</td>\n",
       "    </tr>\n",
       "    <tr>\n",
       "      <th>3</th>\n",
       "      <td>color printing special request additional inf...</td>\n",
       "      <td>1.0</td>\n",
       "    </tr>\n",
       "    <tr>\n",
       "      <th>4</th>\n",
       "      <td>do not have money get software cds from here s...</td>\n",
       "      <td>1.0</td>\n",
       "    </tr>\n",
       "    <tr>\n",
       "      <th>...</th>\n",
       "      <td>...</td>\n",
       "      <td>...</td>\n",
       "    </tr>\n",
       "    <tr>\n",
       "      <th>2038</th>\n",
       "      <td>the installation of the equipment you ordered ...</td>\n",
       "      <td>0.0</td>\n",
       "    </tr>\n",
       "    <tr>\n",
       "      <th>2039</th>\n",
       "      <td>all about current and near future gas power ma...</td>\n",
       "      <td>0.0</td>\n",
       "    </tr>\n",
       "    <tr>\n",
       "      <th>2040</th>\n",
       "      <td>maureen s expenses it appears that administrat...</td>\n",
       "      <td>0.0</td>\n",
       "    </tr>\n",
       "    <tr>\n",
       "      <th>2041</th>\n",
       "      <td>interview numerical methods finance dear tanya...</td>\n",
       "      <td>0.0</td>\n",
       "    </tr>\n",
       "    <tr>\n",
       "      <th>2042</th>\n",
       "      <td>sevil yaman hi norma sevil s primary project h...</td>\n",
       "      <td>0.0</td>\n",
       "    </tr>\n",
       "  </tbody>\n",
       "</table>\n",
       "<p>2043 rows × 2 columns</p>\n",
       "</div>"
      ],
      "text/plain": [
       "                                                   text  spam\n",
       "0     naturally irresistible your corporate identity...   1.0\n",
       "1     the stock trading gunslinger fanny is merrill ...   1.0\n",
       "2     unbelievable new homes made easy im wanting to...   1.0\n",
       "3      color printing special request additional inf...   1.0\n",
       "4     do not have money get software cds from here s...   1.0\n",
       "...                                                 ...   ...\n",
       "2038  the installation of the equipment you ordered ...   0.0\n",
       "2039  all about current and near future gas power ma...   0.0\n",
       "2040  maureen s expenses it appears that administrat...   0.0\n",
       "2041  interview numerical methods finance dear tanya...   0.0\n",
       "2042  sevil yaman hi norma sevil s primary project h...   0.0\n",
       "\n",
       "[2043 rows x 2 columns]"
      ]
     },
     "execution_count": 28,
     "metadata": {},
     "output_type": "execute_result"
    }
   ],
   "source": [
    "def normalize(data):\n",
    "    for index in range(len(data)):\n",
    "        d = dictionary.set_index('variant_spelling')['standard_spelling'].to_dict()\n",
    "        p = re.compile(r'\\b(' + '|'.join(d.keys()) + r')\\b')\n",
    "        b = p.sub(lambda x: d[x.group()], data.text.iloc[index])\n",
    "        data.loc[index, 'text'] = b\n",
    "        \n",
    "normalize(dataset)\n",
    "dataset"
   ]
  },
  {
   "cell_type": "markdown",
   "id": "ddb79f82",
   "metadata": {},
   "source": [
    "### 1.5 Data Preprocessing - Stemming"
   ]
  },
  {
   "cell_type": "code",
   "execution_count": 29,
   "id": "4fc30e54",
   "metadata": {
    "scrolled": false
   },
   "outputs": [
    {
     "data": {
      "text/html": [
       "<div>\n",
       "<style scoped>\n",
       "    .dataframe tbody tr th:only-of-type {\n",
       "        vertical-align: middle;\n",
       "    }\n",
       "\n",
       "    .dataframe tbody tr th {\n",
       "        vertical-align: top;\n",
       "    }\n",
       "\n",
       "    .dataframe thead th {\n",
       "        text-align: right;\n",
       "    }\n",
       "</style>\n",
       "<table border=\"1\" class=\"dataframe\">\n",
       "  <thead>\n",
       "    <tr style=\"text-align: right;\">\n",
       "      <th></th>\n",
       "      <th>text</th>\n",
       "      <th>spam</th>\n",
       "    </tr>\n",
       "  </thead>\n",
       "  <tbody>\n",
       "    <tr>\n",
       "      <th>0</th>\n",
       "      <td>natur irresist your corpor ident lt is realli ...</td>\n",
       "      <td>1.0</td>\n",
       "    </tr>\n",
       "    <tr>\n",
       "      <th>1</th>\n",
       "      <td>the stock trade gunsling fanni is merril but m...</td>\n",
       "      <td>1.0</td>\n",
       "    </tr>\n",
       "    <tr>\n",
       "      <th>2</th>\n",
       "      <td>unbeliev new home made easi im want to show yo...</td>\n",
       "      <td>1.0</td>\n",
       "    </tr>\n",
       "    <tr>\n",
       "      <th>3</th>\n",
       "      <td>color print special request addit inform now c...</td>\n",
       "      <td>1.0</td>\n",
       "    </tr>\n",
       "    <tr>\n",
       "      <th>4</th>\n",
       "      <td>do not have money get softwar cd from here sof...</td>\n",
       "      <td>1.0</td>\n",
       "    </tr>\n",
       "    <tr>\n",
       "      <th>...</th>\n",
       "      <td>...</td>\n",
       "      <td>...</td>\n",
       "    </tr>\n",
       "    <tr>\n",
       "      <th>2038</th>\n",
       "      <td>the instal of the equip you order is complet a...</td>\n",
       "      <td>0.0</td>\n",
       "    </tr>\n",
       "    <tr>\n",
       "      <th>2039</th>\n",
       "      <td>all about current and near futur ga power mark...</td>\n",
       "      <td>0.0</td>\n",
       "    </tr>\n",
       "    <tr>\n",
       "      <th>2040</th>\n",
       "      <td>maureen s expens it appear that administr maur...</td>\n",
       "      <td>0.0</td>\n",
       "    </tr>\n",
       "    <tr>\n",
       "      <th>2041</th>\n",
       "      <td>interview numer method financ dear tanya it wa...</td>\n",
       "      <td>0.0</td>\n",
       "    </tr>\n",
       "    <tr>\n",
       "      <th>2042</th>\n",
       "      <td>sevil yaman hi norma sevil s primari project h...</td>\n",
       "      <td>0.0</td>\n",
       "    </tr>\n",
       "  </tbody>\n",
       "</table>\n",
       "<p>2043 rows × 2 columns</p>\n",
       "</div>"
      ],
      "text/plain": [
       "                                                   text  spam\n",
       "0     natur irresist your corpor ident lt is realli ...   1.0\n",
       "1     the stock trade gunsling fanni is merril but m...   1.0\n",
       "2     unbeliev new home made easi im want to show yo...   1.0\n",
       "3     color print special request addit inform now c...   1.0\n",
       "4     do not have money get softwar cd from here sof...   1.0\n",
       "...                                                 ...   ...\n",
       "2038  the instal of the equip you order is complet a...   0.0\n",
       "2039  all about current and near futur ga power mark...   0.0\n",
       "2040  maureen s expens it appear that administr maur...   0.0\n",
       "2041  interview numer method financ dear tanya it wa...   0.0\n",
       "2042  sevil yaman hi norma sevil s primari project h...   0.0\n",
       "\n",
       "[2043 rows x 2 columns]"
      ]
     },
     "execution_count": 29,
     "metadata": {},
     "output_type": "execute_result"
    }
   ],
   "source": [
    "ps = PorterStemmer()\n",
    "\n",
    "def stemming(data):\n",
    "    for index in range(len(data)):\n",
    "        sentence = data.text.iloc[index]\n",
    "        words = word_tokenize(sentence)\n",
    "        stem_sentence = []\n",
    "        for word in words:\n",
    "            stem_sentence.append(ps.stem(word))\n",
    "            stem_sentence.append(\" \")\n",
    "        data.loc[index, 'text'] = \"\".join(stem_sentence)\n",
    "\n",
    "stemming(dataset)\n",
    "dataset"
   ]
  },
  {
   "cell_type": "markdown",
   "id": "cd5908e5",
   "metadata": {},
   "source": [
    "### 1.6 Data Preprocessing - Removing Stop Words"
   ]
  },
  {
   "cell_type": "code",
   "execution_count": 30,
   "id": "d2ed67d8",
   "metadata": {
    "scrolled": false
   },
   "outputs": [
    {
     "data": {
      "text/html": [
       "<div>\n",
       "<style scoped>\n",
       "    .dataframe tbody tr th:only-of-type {\n",
       "        vertical-align: middle;\n",
       "    }\n",
       "\n",
       "    .dataframe tbody tr th {\n",
       "        vertical-align: top;\n",
       "    }\n",
       "\n",
       "    .dataframe thead th {\n",
       "        text-align: right;\n",
       "    }\n",
       "</style>\n",
       "<table border=\"1\" class=\"dataframe\">\n",
       "  <thead>\n",
       "    <tr style=\"text-align: right;\">\n",
       "      <th></th>\n",
       "      <th>text</th>\n",
       "      <th>spam</th>\n",
       "    </tr>\n",
       "  </thead>\n",
       "  <tbody>\n",
       "    <tr>\n",
       "      <th>0</th>\n",
       "      <td>natur irresist corpor ident lt realli hard rec...</td>\n",
       "      <td>1.0</td>\n",
       "    </tr>\n",
       "    <tr>\n",
       "      <th>1</th>\n",
       "      <td>stock trade gunsling fanni merril muzo colza a...</td>\n",
       "      <td>1.0</td>\n",
       "    </tr>\n",
       "    <tr>\n",
       "      <th>2</th>\n",
       "      <td>unbeliev new home made easi im want show thi h...</td>\n",
       "      <td>1.0</td>\n",
       "    </tr>\n",
       "    <tr>\n",
       "      <th>3</th>\n",
       "      <td>color print special request addit inform click...</td>\n",
       "      <td>1.0</td>\n",
       "    </tr>\n",
       "    <tr>\n",
       "      <th>4</th>\n",
       "      <td>money get softwar cd softwar compat great grow...</td>\n",
       "      <td>1.0</td>\n",
       "    </tr>\n",
       "    <tr>\n",
       "      <th>...</th>\n",
       "      <td>...</td>\n",
       "      <td>...</td>\n",
       "    </tr>\n",
       "    <tr>\n",
       "      <th>2038</th>\n",
       "      <td>instal equip order complet automat notif syste...</td>\n",
       "      <td>0.0</td>\n",
       "    </tr>\n",
       "    <tr>\n",
       "      <th>2039</th>\n",
       "      <td>current near futur ga power market comment app...</td>\n",
       "      <td>0.0</td>\n",
       "    </tr>\n",
       "    <tr>\n",
       "      <th>2040</th>\n",
       "      <td>maureen expens appear administr maureen expens...</td>\n",
       "      <td>0.0</td>\n",
       "    </tr>\n",
       "    <tr>\n",
       "      <th>2041</th>\n",
       "      <td>interview numer method financ dear tanya wa gr...</td>\n",
       "      <td>0.0</td>\n",
       "    </tr>\n",
       "    <tr>\n",
       "      <th>2042</th>\n",
       "      <td>sevil yaman hi norma sevil primari project ha ...</td>\n",
       "      <td>0.0</td>\n",
       "    </tr>\n",
       "  </tbody>\n",
       "</table>\n",
       "<p>2043 rows × 2 columns</p>\n",
       "</div>"
      ],
      "text/plain": [
       "                                                   text  spam\n",
       "0     natur irresist corpor ident lt realli hard rec...   1.0\n",
       "1     stock trade gunsling fanni merril muzo colza a...   1.0\n",
       "2     unbeliev new home made easi im want show thi h...   1.0\n",
       "3     color print special request addit inform click...   1.0\n",
       "4     money get softwar cd softwar compat great grow...   1.0\n",
       "...                                                 ...   ...\n",
       "2038  instal equip order complet automat notif syste...   0.0\n",
       "2039  current near futur ga power market comment app...   0.0\n",
       "2040  maureen expens appear administr maureen expens...   0.0\n",
       "2041  interview numer method financ dear tanya wa gr...   0.0\n",
       "2042  sevil yaman hi norma sevil primari project ha ...   0.0\n",
       "\n",
       "[2043 rows x 2 columns]"
      ]
     },
     "execution_count": 30,
     "metadata": {},
     "output_type": "execute_result"
    }
   ],
   "source": [
    "stop_words = set(stopwords.words('english'))\n",
    "\n",
    "def remove_sw(data):\n",
    "    for index in range(len(data)):\n",
    "        sentence = data.text.iloc[index]\n",
    "        words = word_tokenize(sentence)\n",
    "        filtered_sentence = [w for w in words if not w in stop_words]\n",
    "        filtered_sentence = []\n",
    "        for word in words:\n",
    "            if word not in stop_words:\n",
    "                filtered_sentence.append(word)\n",
    "                filtered_sentence.append(\" \")\n",
    "        data.loc[index, 'text'] = \"\".join(filtered_sentence)\n",
    "\n",
    "remove_sw(dataset)\n",
    "dataset"
   ]
  },
  {
   "cell_type": "markdown",
   "id": "689e20bd",
   "metadata": {},
   "source": [
    "### 1.7 Data Preprocessing - Removing Emails Having Less than or Equal 3 Words"
   ]
  },
  {
   "cell_type": "code",
   "execution_count": 31,
   "id": "2673ab42",
   "metadata": {
    "scrolled": false
   },
   "outputs": [
    {
     "data": {
      "text/html": [
       "<div>\n",
       "<style scoped>\n",
       "    .dataframe tbody tr th:only-of-type {\n",
       "        vertical-align: middle;\n",
       "    }\n",
       "\n",
       "    .dataframe tbody tr th {\n",
       "        vertical-align: top;\n",
       "    }\n",
       "\n",
       "    .dataframe thead th {\n",
       "        text-align: right;\n",
       "    }\n",
       "</style>\n",
       "<table border=\"1\" class=\"dataframe\">\n",
       "  <thead>\n",
       "    <tr style=\"text-align: right;\">\n",
       "      <th></th>\n",
       "      <th>text</th>\n",
       "      <th>spam</th>\n",
       "      <th>doc_length</th>\n",
       "    </tr>\n",
       "  </thead>\n",
       "  <tbody>\n",
       "    <tr>\n",
       "      <th>0</th>\n",
       "      <td>natur irresist corpor ident lt realli hard rec...</td>\n",
       "      <td>1.0</td>\n",
       "      <td>217</td>\n",
       "    </tr>\n",
       "    <tr>\n",
       "      <th>1</th>\n",
       "      <td>stock trade gunsling fanni merril muzo colza a...</td>\n",
       "      <td>1.0</td>\n",
       "      <td>63</td>\n",
       "    </tr>\n",
       "    <tr>\n",
       "      <th>2</th>\n",
       "      <td>unbeliev new home made easi im want show thi h...</td>\n",
       "      <td>1.0</td>\n",
       "      <td>42</td>\n",
       "    </tr>\n",
       "    <tr>\n",
       "      <th>3</th>\n",
       "      <td>color print special request addit inform click...</td>\n",
       "      <td>1.0</td>\n",
       "      <td>44</td>\n",
       "    </tr>\n",
       "    <tr>\n",
       "      <th>4</th>\n",
       "      <td>money get softwar cd softwar compat great grow...</td>\n",
       "      <td>1.0</td>\n",
       "      <td>18</td>\n",
       "    </tr>\n",
       "    <tr>\n",
       "      <th>...</th>\n",
       "      <td>...</td>\n",
       "      <td>...</td>\n",
       "      <td>...</td>\n",
       "    </tr>\n",
       "    <tr>\n",
       "      <th>2038</th>\n",
       "      <td>instal equip order complet automat notif syste...</td>\n",
       "      <td>0.0</td>\n",
       "      <td>36</td>\n",
       "    </tr>\n",
       "    <tr>\n",
       "      <th>2039</th>\n",
       "      <td>current near futur ga power market comment app...</td>\n",
       "      <td>0.0</td>\n",
       "      <td>13</td>\n",
       "    </tr>\n",
       "    <tr>\n",
       "      <th>2040</th>\n",
       "      <td>maureen expens appear administr maureen expens...</td>\n",
       "      <td>0.0</td>\n",
       "      <td>37</td>\n",
       "    </tr>\n",
       "    <tr>\n",
       "      <th>2041</th>\n",
       "      <td>interview numer method financ dear tanya wa gr...</td>\n",
       "      <td>0.0</td>\n",
       "      <td>175</td>\n",
       "    </tr>\n",
       "    <tr>\n",
       "      <th>2042</th>\n",
       "      <td>sevil yaman hi norma sevil primari project ha ...</td>\n",
       "      <td>0.0</td>\n",
       "      <td>48</td>\n",
       "    </tr>\n",
       "  </tbody>\n",
       "</table>\n",
       "<p>2032 rows × 3 columns</p>\n",
       "</div>"
      ],
      "text/plain": [
       "                                                   text  spam  doc_length\n",
       "0     natur irresist corpor ident lt realli hard rec...   1.0         217\n",
       "1     stock trade gunsling fanni merril muzo colza a...   1.0          63\n",
       "2     unbeliev new home made easi im want show thi h...   1.0          42\n",
       "3     color print special request addit inform click...   1.0          44\n",
       "4     money get softwar cd softwar compat great grow...   1.0          18\n",
       "...                                                 ...   ...         ...\n",
       "2038  instal equip order complet automat notif syste...   0.0          36\n",
       "2039  current near futur ga power market comment app...   0.0          13\n",
       "2040  maureen expens appear administr maureen expens...   0.0          37\n",
       "2041  interview numer method financ dear tanya wa gr...   0.0         175\n",
       "2042  sevil yaman hi norma sevil primari project ha ...   0.0          48\n",
       "\n",
       "[2032 rows x 3 columns]"
      ]
     },
     "execution_count": 31,
     "metadata": {},
     "output_type": "execute_result"
    }
   ],
   "source": [
    "dataset['doc_length'] = dataset.text.apply(lambda x: len(x.split()))\n",
    "dataset = dataset[~dataset.doc_length.isin([1,2,3])]\n",
    "dataset"
   ]
  },
  {
   "cell_type": "code",
   "execution_count": 32,
   "id": "50d5f961",
   "metadata": {
    "scrolled": false
   },
   "outputs": [
    {
     "name": "stderr",
     "output_type": "stream",
     "text": [
      "C:\\Users\\ASUS\\anaconda3\\lib\\site-packages\\pandas\\core\\frame.py:4906: SettingWithCopyWarning: \n",
      "A value is trying to be set on a copy of a slice from a DataFrame\n",
      "\n",
      "See the caveats in the documentation: https://pandas.pydata.org/pandas-docs/stable/user_guide/indexing.html#returning-a-view-versus-a-copy\n",
      "  return super().drop(\n"
     ]
    },
    {
     "data": {
      "text/html": [
       "<div>\n",
       "<style scoped>\n",
       "    .dataframe tbody tr th:only-of-type {\n",
       "        vertical-align: middle;\n",
       "    }\n",
       "\n",
       "    .dataframe tbody tr th {\n",
       "        vertical-align: top;\n",
       "    }\n",
       "\n",
       "    .dataframe thead th {\n",
       "        text-align: right;\n",
       "    }\n",
       "</style>\n",
       "<table border=\"1\" class=\"dataframe\">\n",
       "  <thead>\n",
       "    <tr style=\"text-align: right;\">\n",
       "      <th></th>\n",
       "      <th>text</th>\n",
       "      <th>spam</th>\n",
       "    </tr>\n",
       "  </thead>\n",
       "  <tbody>\n",
       "    <tr>\n",
       "      <th>0</th>\n",
       "      <td>natur irresist corpor ident lt realli hard rec...</td>\n",
       "      <td>1.0</td>\n",
       "    </tr>\n",
       "    <tr>\n",
       "      <th>1</th>\n",
       "      <td>stock trade gunsling fanni merril muzo colza a...</td>\n",
       "      <td>1.0</td>\n",
       "    </tr>\n",
       "    <tr>\n",
       "      <th>2</th>\n",
       "      <td>unbeliev new home made easi im want show thi h...</td>\n",
       "      <td>1.0</td>\n",
       "    </tr>\n",
       "    <tr>\n",
       "      <th>3</th>\n",
       "      <td>color print special request addit inform click...</td>\n",
       "      <td>1.0</td>\n",
       "    </tr>\n",
       "    <tr>\n",
       "      <th>4</th>\n",
       "      <td>money get softwar cd softwar compat great grow...</td>\n",
       "      <td>1.0</td>\n",
       "    </tr>\n",
       "    <tr>\n",
       "      <th>...</th>\n",
       "      <td>...</td>\n",
       "      <td>...</td>\n",
       "    </tr>\n",
       "    <tr>\n",
       "      <th>2038</th>\n",
       "      <td>instal equip order complet automat notif syste...</td>\n",
       "      <td>0.0</td>\n",
       "    </tr>\n",
       "    <tr>\n",
       "      <th>2039</th>\n",
       "      <td>current near futur ga power market comment app...</td>\n",
       "      <td>0.0</td>\n",
       "    </tr>\n",
       "    <tr>\n",
       "      <th>2040</th>\n",
       "      <td>maureen expens appear administr maureen expens...</td>\n",
       "      <td>0.0</td>\n",
       "    </tr>\n",
       "    <tr>\n",
       "      <th>2041</th>\n",
       "      <td>interview numer method financ dear tanya wa gr...</td>\n",
       "      <td>0.0</td>\n",
       "    </tr>\n",
       "    <tr>\n",
       "      <th>2042</th>\n",
       "      <td>sevil yaman hi norma sevil primari project ha ...</td>\n",
       "      <td>0.0</td>\n",
       "    </tr>\n",
       "  </tbody>\n",
       "</table>\n",
       "<p>2032 rows × 2 columns</p>\n",
       "</div>"
      ],
      "text/plain": [
       "                                                   text  spam\n",
       "0     natur irresist corpor ident lt realli hard rec...   1.0\n",
       "1     stock trade gunsling fanni merril muzo colza a...   1.0\n",
       "2     unbeliev new home made easi im want show thi h...   1.0\n",
       "3     color print special request addit inform click...   1.0\n",
       "4     money get softwar cd softwar compat great grow...   1.0\n",
       "...                                                 ...   ...\n",
       "2038  instal equip order complet automat notif syste...   0.0\n",
       "2039  current near futur ga power market comment app...   0.0\n",
       "2040  maureen expens appear administr maureen expens...   0.0\n",
       "2041  interview numer method financ dear tanya wa gr...   0.0\n",
       "2042  sevil yaman hi norma sevil primari project ha ...   0.0\n",
       "\n",
       "[2032 rows x 2 columns]"
      ]
     },
     "execution_count": 32,
     "metadata": {},
     "output_type": "execute_result"
    }
   ],
   "source": [
    "dataset.drop(['doc_length'], axis = 1, inplace = True)\n",
    "dataset"
   ]
  },
  {
   "cell_type": "markdown",
   "id": "2d79d9c3",
   "metadata": {},
   "source": [
    "## 2. Feature Extraction"
   ]
  },
  {
   "cell_type": "code",
   "execution_count": 33,
   "id": "2bdfce42",
   "metadata": {},
   "outputs": [],
   "source": [
    "x = dataset['text']\n",
    "y = dataset['spam']\n",
    "\n",
    "x_train, x_test, y_train, y_test = train_test_split(x, y, test_size = 0.2, random_state = 42)"
   ]
  },
  {
   "cell_type": "code",
   "execution_count": 34,
   "id": "ea3e573f",
   "metadata": {},
   "outputs": [],
   "source": [
    "vectorizer = TfidfVectorizer()\n",
    "x_train_vector = vectorizer.fit_transform(x_train)\n",
    "x_test_vector = vectorizer.transform(x_test)"
   ]
  },
  {
   "cell_type": "markdown",
   "id": "d8df9782",
   "metadata": {},
   "source": [
    "## 3. Classification and Evaluation"
   ]
  },
  {
   "cell_type": "code",
   "execution_count": 35,
   "id": "2b198e61",
   "metadata": {},
   "outputs": [
    {
     "name": "stdout",
     "output_type": "stream",
     "text": [
      "Accuracy: 0.9484029484029484\n",
      "F1 Score: 0.9606003752345216\n"
     ]
    }
   ],
   "source": [
    "model = LogisticRegression()\n",
    "model.fit(x_train_vector, y_train)\n",
    "\n",
    "y_pred = model.predict(x_test_vector)\n",
    "acc = accuracy_score(y_test, y_pred)\n",
    "f1 = f1_score(y_test, y_pred)\n",
    "\n",
    "print('Accuracy:', acc)\n",
    "print('F1 Score:', f1)"
   ]
  },
  {
   "cell_type": "markdown",
   "id": "0d3511f4",
   "metadata": {},
   "source": [
    "## 4. GUI Building"
   ]
  },
  {
   "cell_type": "code",
   "execution_count": 36,
   "id": "7cdbd320",
   "metadata": {
    "scrolled": true
   },
   "outputs": [],
   "source": [
    "root = tk.Tk()\n",
    "\n",
    "root.title(\"Email Spam Filter\")\n",
    "root.iconbitmap(r'asset/message-mail-envelope-email-spam-inbox_108649.ico')\n",
    "root.geometry('600x600')\n",
    "root.resizable(width = False, height = False)\n",
    "\n",
    "header = TkFont.Font(family = \"San Francisco\", size = 36, weight = \"bold\")\n",
    "subheader = TkFont.Font(family = \"San Francisco\", size = 16)\n",
    "body = TkFont.Font(family = \"San Francisco\", size = 10)\n",
    "\n",
    "canvas1 = tk.Canvas(root, width = 600, height = 700)\n",
    "canvas1.pack()\n",
    "\n",
    "title = tk.Label(text = \"Email Spam Filter\", font = header)\n",
    "canvas1.create_window(300, 50, window = title)\n",
    "\n",
    "label1 = tk.Label(root, text = \"Input your text\", font = subheader)\n",
    "canvas1.create_window(300, 120, window = label1)\n",
    "\n",
    "entry1 = tk.Text(root, height = 8, width = 56)\n",
    "canvas1.create_window(300, 210, window = entry1)\n",
    "\n",
    "label2 = tk.Label(root, text = \"Preprocessing\", font = subheader)\n",
    "canvas1.create_window(300, 350, window = label2)\n",
    "\n",
    "result = tk.Label(root, font = body, height = 8, width = 56, bg = \"black\")\n",
    "canvas1.create_window(300, 440, window = result)\n",
    "\n",
    "def apply():\n",
    "    global email\n",
    "    email = str(entry1.get(\"1.0\", tk.END))\n",
    "    \n",
    "    email = email.lower()\n",
    "    email = remove_hashtag(email)\n",
    "    email = remove_subject(email)\n",
    "    email = remove_re(email)\n",
    "    email = remove_fwd(email)\n",
    "    email = remove_cc_bcc(email)\n",
    "    email = remove_to(email)\n",
    "    email = remove_from(email)\n",
    "    email = remove_sent(email)\n",
    "    email = remove_email(email)\n",
    "    email = remove_fwd_by(email)\n",
    "    email = remove_ori(email)\n",
    "    email = remove_date_time(email)\n",
    "    email = remove_hashtag(email)\n",
    "    email = remove_emoji(email)\n",
    "    email = remove_link(email)\n",
    "    email = remove_tab(email)\n",
    "    email = remove_number(email)\n",
    "    email = remove_punctuation(email)\n",
    "    email = remove_linebreak(email)\n",
    "    email = remove_spaces(email)\n",
    "    \n",
    "    result = tk.Label(root, text = email, font = body, height = 8, width = 56, bg = \"black\", fg = \"white\", wraplength = 425)\n",
    "    canvas1.create_window(300, 440, window = result)\n",
    "    \n",
    "    data = {'text': [email]}\n",
    "    vec = vectorizer.transform(data['text'])\n",
    "    pred = model.predict(vec)\n",
    "    \n",
    "    if(pred == 1):\n",
    "        label2 = tk.Label(root, text = \"Spam\", font = subheader, fg = \"red\")\n",
    "    elif(pred == 0):\n",
    "        label2 = tk.Label(root, text = \"Ham\", font = subheader, fg = \"green\")\n",
    "\n",
    "    canvas1.create_window(300, 550, window = label2)\n",
    "\n",
    "button1 = tk.Button (root, text = \"Execute\", font = body, command = apply, fg = \"white\", bg = \"black\", activebackground = \"white\", activeforeground = \"black\")\n",
    "canvas1.create_window(300, 305, window = button1)\n",
    "\n",
    "root.mainloop()"
   ]
  }
 ],
 "metadata": {
  "kernelspec": {
   "display_name": "Python 3 (ipykernel)",
   "language": "python",
   "name": "python3"
  },
  "language_info": {
   "codemirror_mode": {
    "name": "ipython",
    "version": 3
   },
   "file_extension": ".py",
   "mimetype": "text/x-python",
   "name": "python",
   "nbconvert_exporter": "python",
   "pygments_lexer": "ipython3",
   "version": "3.9.7"
  }
 },
 "nbformat": 4,
 "nbformat_minor": 5
}
